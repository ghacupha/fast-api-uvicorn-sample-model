{
 "cells": [
  {
   "source": [
    "### HR Turnover Analytics\n",
    "\n",
    "This model is created to predict HR turnover given characteristics such as the following: \n",
    "      # sample dict for prediction request\n",
    "data = {'satisfaction_level': 0.38,\n",
    "         'last_evaluation': 0.53,\n",
    "         'number_project': 2,\n",
    "         'average_montly_hours': 157,\n",
    "         'time_spend_company': 3,\n",
    "         'Work_accident': 0,\n",
    "         'promotion_last_5years': 0,\n",
    "         'sales': 'support',\n",
    "         'salary': 'low'}\n",
    "\n",
    "Our example concerns a big company that wants to understand why some of their best and most experienced employees are leaving prematurely. The company also wishes to predict which valuable employees will leave next using an employee profile such as the above\n",
    "\n",
    "We use the LGBMClassifier which is decribed as follows according to their documentation:\n",
    "\n",
    "LightGBM is a gradient boosting framework that uses tree based learning algorithms. It is designed to be distributed and efficient with the following advantages:\n",
    "\n",
    "  - Faster training speed and higher efficiency.\n",
    "  - Lower memory usage.\n",
    "  - Better accuracy.\n",
    "  - Support of parallel and GPU learning.\n",
    "  - Capable of handling large-scale data."
   ],
   "cell_type": "markdown",
   "metadata": {}
  },
  {
   "cell_type": "code",
   "execution_count": 16,
   "metadata": {},
   "outputs": [],
   "source": [
    "import pickle\n",
    "import numpy as np\n",
    "import pandas as pd\n",
    "from lightgbm import LGBMClassifier\n",
    "from sklearn.preprocessing import OneHotEncoder\n",
    "\n",
    "# Load data and save indices of columns\n",
    "df = pd.read_csv('data.csv')\n",
    "features = df.drop('left', 1).columns\n",
    "\n",
    "\n",
    "# Fit and save an OneHotEncoder\n",
    "columns_to_fit = ['sales', 'salary']\n",
    "enc = OneHotEncoder(sparse=False).fit(df.loc[:, columns_to_fit])\n",
    "\n",
    "\n",
    "# Transform variables, merge with existing df and keep column names\n",
    "column_names = enc.get_feature_names(columns_to_fit)\n",
    "encoded_variables = pd.DataFrame(enc.transform(df.loc[:, columns_to_fit]), columns=column_names)\n",
    "df = df.drop(columns_to_fit, 1)\n",
    "df = pd.concat([df, encoded_variables], axis=1)\n",
    "    \n",
    "# Fit model\n",
    "X, y = df.drop('left', 1), df.loc[:, 'left']\n",
    "clf = LGBMClassifier().fit(X, y)\n"
   ]
  },
  {
   "source": [
    "### Dump the above objects into the file system"
   ],
   "cell_type": "markdown",
   "metadata": {}
  },
  {
   "cell_type": "code",
   "execution_count": 10,
   "metadata": {},
   "outputs": [],
   "source": [
    "# Save the indices of columns as features\n",
    "pickle.dump(features, open('../app/data/features.pickle', 'wb'))\n",
    "\n",
    "# Save the fitted one-hot-encoder object\n",
    "pickle.dump(enc, open('../app/data/encoder.pickle', 'wb'))\n",
    "\n",
    "# Save the trained model\n",
    "pickle.dump(clf, open('../app/data/model.pickle', 'wb'))"
   ]
  },
  {
   "source": [
    "### Testing the pickled models from file system"
   ],
   "cell_type": "markdown",
   "metadata": {}
  },
  {
   "cell_type": "code",
   "execution_count": 17,
   "metadata": {},
   "outputs": [
    {
     "output_type": "execute_result",
     "data": {
      "text/plain": [
       "1"
      ]
     },
     "metadata": {},
     "execution_count": 17
    }
   ],
   "source": [
    "# Initialize files\n",
    "clf = pickle.load(open('../app/data/model.pickle', 'rb'))\n",
    "enc = pickle.load(open('../app/data/encoder.pickle', 'rb'))\n",
    "features = pickle.load(open('../app/data/features.pickle', 'rb'))\n",
    "\n",
    " # sample dict for prediction request\n",
    "data = {'satisfaction_level': 0.38,\n",
    "         'last_evaluation': 0.53,\n",
    "         'number_project': 2,\n",
    "         'average_montly_hours': 157,\n",
    "         'time_spend_company': 3,\n",
    "         'Work_accident': 0,\n",
    "         'promotion_last_5years': 0,\n",
    "         'sales': 'support',\n",
    "         'salary': 'low'}\n",
    "\n",
    "# Extract data in correct order\n",
    "to_predict = [data[feature] for feature in features]\n",
    "\n",
    "encoded_features = list(enc.transform(np.array(to_predict[-2:]).reshape(1, -1))[0])\n",
    "\n",
    "to_predict = np.array(to_predict[:-2] + encoded_features)\n",
    "\n",
    "# Create and return prediction\n",
    "prediction = clf.predict(to_predict.reshape(1, -1))\n",
    "\n",
    "prediction[0]"
   ]
  },
  {
   "cell_type": "code",
   "execution_count": null,
   "metadata": {},
   "outputs": [],
   "source": []
  }
 ],
 "metadata": {
  "kernelspec": {
   "display_name": "Python 3",
   "language": "python",
   "name": "python3"
  },
  "language_info": {
   "codemirror_mode": {
    "name": "ipython",
    "version": 3
   },
   "file_extension": ".py",
   "mimetype": "text/x-python",
   "name": "python",
   "nbconvert_exporter": "python",
   "pygments_lexer": "ipython3",
   "version": "3.9.0-final"
  }
 },
 "nbformat": 4,
 "nbformat_minor": 2
}